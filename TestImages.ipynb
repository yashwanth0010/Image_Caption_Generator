{
 "cells": [
  {
   "cell_type": "code",
   "execution_count": 27,
   "id": "0e9ab8f2",
   "metadata": {},
   "outputs": [],
   "source": [
    "def load_doc(filename):\n",
    "    file = open(filename, 'r')\n",
    "    text = file.read()\n",
    "    file.close()\n",
    "    return text\n"
   ]
  },
  {
   "cell_type": "code",
   "execution_count": 28,
   "id": "ffe1f370",
   "metadata": {},
   "outputs": [],
   "source": [
    "\n",
    "def load_photos(filename):\n",
    "    file = load_doc(filename)\n",
    "    photos = file.split(\"\\n\")[:-1]\n",
    "    return photos"
   ]
  },
  {
   "cell_type": "code",
   "execution_count": 29,
   "id": "8045c7b9",
   "metadata": {},
   "outputs": [],
   "source": [
    "dataset_text = r\"C:\\Users\\HemanthKumar\\Y\\PROJECTS\\image-caption-generator\\Flickr8k_text\"\n",
    "dataset_images = r\"C:\\Users\\HemanthKumar\\Y\\PROJECTS\\image-caption-generator\\Flickr8k_Dataset\\Flicker8k_Dataset\""
   ]
  },
  {
   "cell_type": "code",
   "execution_count": 34,
   "id": "17106103",
   "metadata": {},
   "outputs": [
    {
     "name": "stdout",
     "output_type": "stream",
     "text": [
      "['3385593926_d3e9c21170.jpg', '2677656448_6b7e7702af.jpg', '311146855_0b65fdb169.jpg', '1258913059_07c613f7ff.jpg', '241347760_d44c8d3a01.jpg']\n",
      "1000\n"
     ]
    }
   ],
   "source": [
    "filename = dataset_text + \"/\" + \"Flickr_8k.testImages.txt\"\n",
    "test_imgs = load_photos(filename)\n",
    "print(test_imgs[0:5])\n",
    "print(len(test_imgs))"
   ]
  },
  {
   "cell_type": "code",
   "execution_count": 32,
   "id": "a01ec753",
   "metadata": {},
   "outputs": [],
   "source": [
    "import os\n",
    "import glob\n",
    "from PIL import Image\n",
    "\n",
    "def saveTestImage(photos):\n",
    "    \n",
    "    DESTINATION_PATH = r\"C:/Users/HemanthKumar/Y/PROJECTS/image-caption-generator/testdata/\"\n",
    "\n",
    "    for p in photos:\n",
    "        img = Image.open(r\"C:\\Users\\HemanthKumar\\Y\\PROJECTS\\image-caption-generator\\Flickr8k_Dataset\\Flicker8k_Dataset/\"+p)\n",
    "        final_filepath = os.path.join(DESTINATION_PATH,p)\n",
    "        img.save(final_filepath)"
   ]
  },
  {
   "cell_type": "code",
   "execution_count": 33,
   "id": "8973f380",
   "metadata": {},
   "outputs": [],
   "source": [
    "saveTestImage(test_imgs)"
   ]
  },
  {
   "cell_type": "code",
   "execution_count": null,
   "id": "647bee8e",
   "metadata": {},
   "outputs": [],
   "source": []
  },
  {
   "cell_type": "code",
   "execution_count": null,
   "id": "5f295203",
   "metadata": {},
   "outputs": [],
   "source": []
  },
  {
   "cell_type": "code",
   "execution_count": null,
   "id": "9c69eb18",
   "metadata": {},
   "outputs": [],
   "source": []
  }
 ],
 "metadata": {
  "kernelspec": {
   "display_name": "Python 3",
   "language": "python",
   "name": "python3"
  },
  "language_info": {
   "codemirror_mode": {
    "name": "ipython",
    "version": 3
   },
   "file_extension": ".py",
   "mimetype": "text/x-python",
   "name": "python",
   "nbconvert_exporter": "python",
   "pygments_lexer": "ipython3",
   "version": "3.6.4"
  }
 },
 "nbformat": 4,
 "nbformat_minor": 5
}
